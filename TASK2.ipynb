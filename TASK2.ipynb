{
  "nbformat": 4,
  "nbformat_minor": 0,
  "metadata": {
    "colab": {
      "provenance": []
    },
    "kernelspec": {
      "name": "python3",
      "display_name": "Python 3"
    },
    "language_info": {
      "name": "python"
    }
  },
  "cells": [
    {
      "cell_type": "code",
      "source": [
        "import random\n",
        "import time\n",
        "from collections import deque\n",
        "import pandas as pd\n",
        "import matplotlib.pyplot as plt\n",
        "\n",
        "# Node class for BST\n",
        "class Node:\n",
        "    def __init__(self, value):\n",
        "        self.value = value\n",
        "        self.left = None\n",
        "        self.right = None\n",
        "\n",
        "# Insert node into BST\n",
        "def insert_bst(root, value):\n",
        "    if root is None:\n",
        "        return Node(value)\n",
        "    if value < root.value:\n",
        "        root.left = insert_bst(root.left, value)\n",
        "    else:\n",
        "        root.right = insert_bst(root.right, value)\n",
        "    return root\n",
        "\n",
        "# BFS search\n",
        "def bfs_search(root, goal):\n",
        "    if not root:\n",
        "        return False\n",
        "    queue = deque([root])\n",
        "    while queue:\n",
        "        node = queue.popleft()\n",
        "        if node.value == goal:\n",
        "            return True\n",
        "        if node.left:\n",
        "            queue.append(node.left)\n",
        "        if node.right:\n",
        "            queue.append(node.right)\n",
        "    return False\n",
        "\n",
        "# DFS search\n",
        "def dfs_search(root, goal):\n",
        "    if not root:\n",
        "        return False\n",
        "    if root.value == goal:\n",
        "        return True\n",
        "    return dfs_search(root.left, goal) or dfs_search(root.right, goal)\n",
        "\n",
        "# Generate random unique numbers and build BSTs\n",
        "sizes = [1000, 40000, 80000, 200000, 1000000]\n",
        "trees = {}\n",
        "lists = {}\n",
        "for size in sizes:\n",
        "    numbers = random.sample(range(1, size * 10), size)\n",
        "    lists[size] = sorted(numbers)\n",
        "    root = None\n",
        "    for num in numbers:\n",
        "        root = insert_bst(root, num)\n",
        "    trees[size] = root\n",
        "\n",
        "# Measure execution times\n",
        "results = {'Size': [], 'BFS_Time': [], 'DFS_Time': []}\n",
        "for size in sizes:\n",
        "    goal = lists[size][size - 220]  # Goal is lis[total_len - 220]\n",
        "\n",
        "    # BFS\n",
        "    start_time = time.time()\n",
        "    bfs_search(trees[size], goal)\n",
        "    bfs_time = time.time() - start_time\n",
        "\n",
        "    # DFS\n",
        "    start_time = time.time()\n",
        "    dfs_search(trees[size], goal)\n",
        "    dfs_time = time.time() - start_time\n",
        "\n",
        "    results['Size'].append(size)\n",
        "    results['BFS_Time'].append(bfs_time)\n",
        "    results['DFS_Time'].append(dfs_time)\n",
        "\n",
        "# Create DataFrame\n",
        "df = pd.DataFrame(results)\n",
        "print(df)\n",
        "\n",
        "# Plot bar chart\n",
        "plt.figure(figsize=(10, 6))\n",
        "bar_width = 0.35\n",
        "x = range(len(sizes))\n",
        "plt.bar(x, df['BFS_Time'], width=bar_width, label='BFS', color='blue')\n",
        "plt.bar([i + bar_width for i in x], df['DFS_Time'], width=bar_width, label='DFS', color='green')\n",
        "plt.xlabel('Input Size')\n",
        "plt.ylabel('Time (seconds)')\n",
        "plt.title('BFS vs DFS Execution Time')\n",
        "plt.xticks([i + bar_width / 2 for i in x], sizes)\n",
        "plt.legend()\n",
        "plt.savefig('search_time_comparison.png')\n",
        "plt.close()"
      ],
      "metadata": {
        "colab": {
          "base_uri": "https://localhost:8080/"
        },
        "id": "umc64o8C-qx4",
        "outputId": "23ed3c17-3162-45df-91b4-6ae682d37bbc"
      },
      "execution_count": null,
      "outputs": [
        {
          "output_type": "stream",
          "name": "stdout",
          "text": [
            "      Size  BFS_Time  DFS_Time\n",
            "0     1000  0.000468  0.000319\n",
            "1    40000  0.013760  0.027570\n",
            "2    80000  0.019851  0.057967\n",
            "3   200000  0.020729  0.142754\n",
            "4  1000000  0.041069  0.828965\n"
          ]
        }
      ]
    }
  ]
}